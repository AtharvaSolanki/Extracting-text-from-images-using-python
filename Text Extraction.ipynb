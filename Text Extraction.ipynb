{
 "cells": [
  {
   "cell_type": "markdown",
   "metadata": {},
   "source": [
    "# Task 1"
   ]
  },
  {
   "cell_type": "markdown",
   "metadata": {},
   "source": [
    "### Installing Libraries"
   ]
  },
  {
   "cell_type": "code",
   "execution_count": 7,
   "metadata": {},
   "outputs": [
    {
     "name": "stdout",
     "output_type": "stream",
     "text": [
      "Collecting opencv-pythonNote: you may need to restart the kernel to use updated packages.\n",
      "\n",
      "  Using cached opencv_python-4.7.0.68-cp37-abi3-win_amd64.whl (38.2 MB)\n",
      "Requirement already satisfied: numpy>=1.19.3 in c:\\users\\user\\anaconda3.0\\lib\\site-packages (from opencv-python) (1.21.5)\n",
      "Installing collected packages: opencv-python\n",
      "Successfully installed opencv-python-4.7.0.68\n"
     ]
    }
   ],
   "source": [
    "pip install opencv-python"
   ]
  },
  {
   "cell_type": "code",
   "execution_count": 2,
   "metadata": {},
   "outputs": [
    {
     "name": "stdout",
     "output_type": "stream",
     "text": [
      "Collecting pytesseractNote: you may need to restart the kernel to use updated packages.\n",
      "\n",
      "  Using cached pytesseract-0.3.10-py3-none-any.whl (14 kB)\n",
      "Requirement already satisfied: packaging>=21.3 in c:\\users\\user\\anaconda3.0\\lib\\site-packages (from pytesseract) (21.3)\n",
      "Requirement already satisfied: Pillow>=8.0.0 in c:\\users\\user\\anaconda3.0\\lib\\site-packages (from pytesseract) (9.2.0)\n",
      "Requirement already satisfied: pyparsing!=3.0.5,>=2.0.2 in c:\\users\\user\\anaconda3.0\\lib\\site-packages (from packaging>=21.3->pytesseract) (3.0.9)\n",
      "Installing collected packages: pytesseract\n",
      "Successfully installed pytesseract-0.3.10\n"
     ]
    }
   ],
   "source": [
    "pip install pytesseract"
   ]
  },
  {
   "cell_type": "code",
   "execution_count": null,
   "metadata": {},
   "outputs": [],
   "source": [
    "pip install tesseract"
   ]
  },
  {
   "cell_type": "markdown",
   "metadata": {},
   "source": [
    "## Using python image library"
   ]
  },
  {
   "cell_type": "code",
   "execution_count": 3,
   "metadata": {},
   "outputs": [],
   "source": [
    "from PIL import Image\n",
    "from pytesseract import pytesseract\n",
    "\n"
   ]
  },
  {
   "cell_type": "code",
   "execution_count": 4,
   "metadata": {},
   "outputs": [
    {
     "name": "stdout",
     "output_type": "stream",
     "text": [
      "Satistied conveying an dependent contented he gentleman agreeable do be. Warrant\n",
      "private blushes removed an in equally totally if. Delivered dejection necessary\n",
      "objection do mr prevailed. Mr feeling do chiefly cordial in do. Water timed folly\n",
      "right aware if oh truth. Imprudence attachment him his for sympathize. Large above\n",
      "be to means. Dashwood do provided stronger is. But disoretion frequently sir the\n",
      "she instrument unattected admiration everything,\n",
      "\n",
      "Her extensive perceived may any sincerity extremity. Indeed add rather may pretty\n",
      "see. Old propriety delighted explained perceived otherwise objection saw ten her.\n",
      "Doubt merit sir the right these alone keeps. By sometimes intention smallness he\n",
      "northward. Consisted we otherwise arranging commanded discovery it explained.\n",
      "Does cold even song like two yet been, Literature interested announcing for\n",
      "terminated him inquietude day shy. Himself he fertile chicken perhaps Waiting if\n",
      "highest mo it. Continued promotion has consulted fat improving not way,\n",
      "\n",
      "Far quitting dwelling graceful the likewise received building. An fact so to that\n",
      "show am shed sold cold. Unaffected remarkably get yet introduced excellence\n",
      "terminated led. Result either design sai she esteem and. On ashamed mo inhabit\n",
      "ferrars it ye besides resolve. Own judgment directly few trifling, Elderly as\n",
      "pursuit at regular do parlors. Rank what has into fond she.\n",
      "\n",
      "Of friendship on inhabiting diminution discovered as. Did friendly eat breeding\n",
      "building few mor. Object he barton no ettect played valley afford. Period so to\n",
      "oppose we little seeing or branch. Announcing contrasted not imprudence add\n",
      "frequently you possession mrs. Period saw his houses square and misery. Hour had\n",
      "held lain give yet.\n",
      "\n"
     ]
    }
   ],
   "source": [
    "#Define path to tessaract.exe\n",
    "path_to_tesseract = r'C:\\Program Files\\Tesseract-OCR\\tesseract.exe'\n",
    "\n",
    "#Point tessaract_cmd to tessaract.exe\n",
    "pytesseract.tesseract_cmd = path_to_tesseract\n",
    "\n",
    "#Open image with PIL\n",
    "img = Image.open(\"3.jpg\")\n",
    "\n",
    "#Extract text from image\n",
    "text = pytesseract.image_to_string(img)\n",
    "\n",
    "print(text)"
   ]
  },
  {
   "cell_type": "code",
   "execution_count": 5,
   "metadata": {},
   "outputs": [],
   "source": [
    "#saving the text in a file\n",
    "with open(\"task.txt\", \"w\") as f:\n",
    "    f.write(text)"
   ]
  },
  {
   "cell_type": "markdown",
   "metadata": {},
   "source": [
    "## Using Open CV"
   ]
  },
  {
   "cell_type": "code",
   "execution_count": 8,
   "metadata": {},
   "outputs": [],
   "source": [
    "import cv2"
   ]
  },
  {
   "cell_type": "code",
   "execution_count": 9,
   "metadata": {},
   "outputs": [],
   "source": [
    "img_cv2=cv2.imread(\"3.jpg\")"
   ]
  },
  {
   "cell_type": "code",
   "execution_count": 10,
   "metadata": {},
   "outputs": [],
   "source": [
    "path_to_tesseract = r'C:\\Program Files\\Tesseract-OCR\\tesseract.exe'\n",
    "\n",
    "#Point tessaract_cmd to tessaract.exe\n",
    "pytesseract.tesseract_cmd = path_to_tesseract"
   ]
  },
  {
   "cell_type": "code",
   "execution_count": 11,
   "metadata": {},
   "outputs": [
    {
     "name": "stdout",
     "output_type": "stream",
     "text": [
      "Satistied oomveying an dependent contented he gentleman agreeable do be. Warrant\n",
      "private blushes removed an in equally totally if. Delivered dejeotion necessary\n",
      "objection do mr prevailed. Mr feeling do chiefly cordial in do. Water timed folly\n",
      "right aware if oh truth. Imprudence attachment him his for sympathize. Large above\n",
      "be to means. Dashwood do provided stronger is, But discretion frequently sir the\n",
      "she instrument unaffected admiration everything,\n",
      "\n",
      "Her extensive perceived may any sincerity extremity. Indeed add rather may pretty\n",
      "see. Old propriety delighted explained perceived otherwise objection saw ten her.\n",
      "Doubt merit sir the right these alone keeps. By sometimes intention smallness he\n",
      "northward. Consisted we otherwise arranging commanded disoovery it explained.\n",
      "Does cold even song like two yet been. Literature interested announcing for\n",
      "terminated him inquietude day shy. Himself he fertile chicken perhaps waiting if\n",
      "highest mo it, Continued promotion has consulted fat improving not way.\n",
      "\n",
      "Far quitting dwelling graceful the likewise received building. An fact so to that\n",
      "show am shed sold cold. Unaffected remarkably get yet introduced excellence\n",
      "terminated led. Result either design saw she esteem and. On ashamed no inhabit\n",
      "ferrars it ye besides resolve. Own judgment directly few trifling. Elderly as\n",
      "pursuit at regular do parlors. Rank what has into fond she.\n",
      "\n",
      "Of friendship on inhabiting diminution discovered as. Did friendly eat breeding\n",
      "building few nor. Object he barton no effect played valley afford. Period so to\n",
      "oppose we little seeing or branch. Announcing contrasted not imprudence add\n",
      "frequently you possession mrs. Period saw his houses square and misery. Hour had\n",
      "held lain give yet.\n",
      "\n"
     ]
    }
   ],
   "source": [
    "#Extract text from image\n",
    "text_cv2 = pytesseract.image_to_string(img_cv2)\n",
    "\n",
    "print(text_cv2)"
   ]
  },
  {
   "cell_type": "code",
   "execution_count": null,
   "metadata": {},
   "outputs": [],
   "source": []
  }
 ],
 "metadata": {
  "kernelspec": {
   "display_name": "Python 3",
   "language": "python",
   "name": "python3"
  },
  "language_info": {
   "codemirror_mode": {
    "name": "ipython",
    "version": 3
   },
   "file_extension": ".py",
   "mimetype": "text/x-python",
   "name": "python",
   "nbconvert_exporter": "python",
   "pygments_lexer": "ipython3",
   "version": "3.9.13"
  }
 },
 "nbformat": 4,
 "nbformat_minor": 4
}
